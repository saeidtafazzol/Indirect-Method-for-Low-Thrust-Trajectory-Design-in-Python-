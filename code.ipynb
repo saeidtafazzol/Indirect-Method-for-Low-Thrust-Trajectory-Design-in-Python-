{
 "cells": [
  {
   "cell_type": "markdown",
   "metadata": {},
   "source": [
    "[![Open in Colab](https://colab.research.google.com/assets/colab-badge.svg)](https://colab.research.google.com/github//saeidtafazzol/Indirect-Method-for-Low-Thrust-Trajectory-Design-in-Python-/blob/main/code.ipynb)\n"
   ]
  },
  {
   "cell_type": "markdown",
   "metadata": {},
   "source": [
    "# Space Craft Dynamics\n",
    "\n",
    "In this section, we will talk about the dynamics of the spacecraft assuming that it is only affected by the gravity field of **one** central body.\n",
    "\n",
    "Let $\\boldsymbol{r} = [x,y,z]^\\top$ and $\\boldsymbol{v} = [v_x,v_y,v_z]^\\top$ denote the position and velocity vectors of the center of mass of the spacecraft relative to the origin of the heliocentric frame of reference. The dynamics can be written as:\n",
    "\n",
    "$$\n",
    "\\begin{align}\n",
    "\\dot{\\boldsymbol{r}} &= \\boldsymbol{v}, \\nonumber \\\\\n",
    "\\dot{\\boldsymbol{v}} &= -\\dfrac{\\mu}{r^3} \\boldsymbol{r} + \\dfrac{T_{\\max}}{m} \\hat{\\boldsymbol{\\alpha}}  \\delta, \\\\\n",
    "\\dot{m} &= - \\dfrac{T_{\\max}}{c} \\delta\n",
    "\\end{align}\n",
    "$$\n",
    "\n",
    "### Explanation of the Dynamics:\n",
    "\n",
    "1. **Position Update:**\n",
    "\n",
    "   $$\n",
    "   \\dot{\\boldsymbol{r}} = \\boldsymbol{v}\n",
    "   $$\n",
    "\n",
    "   The velocity vector $\\boldsymbol{v}$ represents the rate of change of position $\\boldsymbol{r}$.\n",
    "\n",
    "2. **Velocity Update (Equation of Motion):**\n",
    "\n",
    "   $$\n",
    "   \\dot{\\boldsymbol{v}} = -\\dfrac{\\mu}{r^3} \\boldsymbol{r} + \\dfrac{T_{\\max}}{m} \\hat{\\boldsymbol{\\alpha}}  \\delta\n",
    "   $$\n",
    "\n",
    "   - The term $-\\dfrac{\\mu}{r^3} \\boldsymbol{r}$ accounts for the gravitational acceleration due to the central body.\n",
    "   - The term $\\dfrac{T_{\\max}}{m} \\hat{\\boldsymbol{\\alpha}}  \\delta$ represents the acceleration from an external thrust force, where $\\boldsymbol{\\alpha}$ is the direction of the thrust and $\\delta$ is the amount of propulsion.\n",
    "\n",
    "3. **Mass Change Due to Propellant Use:**\n",
    "\n",
    "   $$\n",
    "   \\dot{m} = - \\dfrac{T_{\\max}}{c} \\delta\n",
    "   $$\n",
    "\n",
    "   The spacecraft loses mass over time due to fuel consumption, where $c$ is the exhaust velocity of the propellant.\n",
    "\n",
    "These equations describe the motion of a spacecraft under the influence of a single gravitational body and an external thrust force.\n",
    "\n"
   ]
  },
  {
   "cell_type": "code",
   "execution_count": 4,
   "metadata": {},
   "outputs": [
    {
     "name": "stdout",
     "output_type": "stream",
     "text": [
      "Dynamics:\n"
     ]
    },
    {
     "data": {
      "text/latex": [
       "$\\displaystyle \\left[\\begin{matrix}v_{0}\\\\v_{1}\\\\v_{2}\\\\\\frac{T_{max} \\alpha_{0} \\delta}{m} - \\frac{\\mu r_{0}}{\\left(r_{0}^{2} + r_{1}^{2} + r_{2}^{2}\\right)^{\\frac{3}{2}}}\\\\\\frac{T_{max} \\alpha_{1} \\delta}{m} - \\frac{\\mu r_{1}}{\\left(r_{0}^{2} + r_{1}^{2} + r_{2}^{2}\\right)^{\\frac{3}{2}}}\\\\\\frac{T_{max} \\alpha_{2} \\delta}{m} - \\frac{\\mu r_{2}}{\\left(r_{0}^{2} + r_{1}^{2} + r_{2}^{2}\\right)^{\\frac{3}{2}}}\\\\- \\frac{T_{max} \\delta}{c}\\end{matrix}\\right]$"
      ],
      "text/plain": [
       "Matrix([\n",
       "[                                                           v0],\n",
       "[                                                           v1],\n",
       "[                                                           v2],\n",
       "[T_{max}*alpha0*delta/m - mu*r0/(r0**2 + r1**2 + r2**2)**(3/2)],\n",
       "[T_{max}*alpha1*delta/m - mu*r1/(r0**2 + r1**2 + r2**2)**(3/2)],\n",
       "[T_{max}*alpha2*delta/m - mu*r2/(r0**2 + r1**2 + r2**2)**(3/2)],\n",
       "[                                             -T_{max}*delta/c]])"
      ]
     },
     "execution_count": 4,
     "metadata": {},
     "output_type": "execute_result"
    }
   ],
   "source": [
    "import sympy as sp\n",
    "import numpy as np\n",
    "\n",
    "mu = sp.Symbol('mu')\n",
    "T_max = sp.Symbol('T_{max}')\n",
    "c = sp.Symbol('c')\n",
    "\n",
    "r0,r1,r2 = sp.symbols('r0:3')\n",
    "v0,v1,v2 = sp.symbols('v0:3')\n",
    "m = sp.Symbol('m')\n",
    "\n",
    "r = sp.Matrix(3,1,[r0,r1,r2])\n",
    "v = sp.Matrix(3,1,[v0,v1,v2])\n",
    "\n",
    "states = sp.Matrix([r,v,m] )\n",
    "costates = sp.Matrix(7, 1, sp.symbols('lambda0:7'))\n",
    "\n",
    "len_r = sp.sqrt((r.T@r)[0])\n",
    "\n",
    "alpha = sp.Matrix(3, 1, sp.symbols('alpha0:3'))\n",
    "delta = sp.Symbol('delta')\n",
    "\n",
    "state_dot = sp.Matrix([\n",
    "v,\n",
    "-mu/(len_r**3)*r + delta*T_max/m*alpha,\n",
    "-T_max/c*delta,\n",
    "])\n",
    "\n",
    "print('Dynamics:')\n",
    "state_dot"
   ]
  },
  {
   "cell_type": "markdown",
   "metadata": {},
   "source": [
    "# Mission\n",
    "\n",
    "In this example, we want to start the mission at a certain time from Earth and end at a certain time on Mars. Therefore, we should control the spacecraft so that it fulfills our boundary conditions. I will talk about how later, but for now, let's just set up our variables:\n",
    "\n",
    "$$\n",
    "\\begin{aligned}\n",
    "&\\bm{r}(t_0)=  \\bm{r}_0,\\\\\n",
    "&\\bm{v}(t_0) = \\bm{v}_0 ,\\\\\n",
    "& m(t_0) = m_0,\\\\\n",
    "&\\bm{r}(t_f) - \\bm{r}_f = \\bm{0},\\\\\n",
    "&\\bm{v}(t_f) - \\bm{v}_f = \\bm{0}\n",
    "\\end{aligned}\n",
    "$$\n",
    "\n",
    "The discrepancy between the initial and final time conditions is deliberate, and we'll get to it later. (Hint: error function!)\n",
    "\n",
    "Another important aspect of these missions is normalization. Here, we literally deal with astronomical units, and different variables do not necessarily have the same scale. To balance this, we also normalize our parameters."
   ]
  },
  {
   "cell_type": "code",
   "execution_count": null,
   "metadata": {},
   "outputs": [],
   "source": [
    "AU = 1.496e+8 # km\n",
    "AUm = AU*1e3 # m\n",
    "TU = 31536000/(2*np.pi) #s\n",
    "mu = 132712440018 / (AU**3)*(TU**2) # gravitational parameter\n",
    "M = 1000 #kg\n",
    "\n",
    "m_0 = 1000/M\n",
    "g0 = 9.8065 # m/s^2\n",
    "I_sp = 2000 \n",
    "\n",
    "T_max = 0.5 / AUm * (TU**2) / M\n",
    "c = I_sp*g0 /AUm * TU\n",
    "\n",
    "r_0 = np.array([-140699693, -51614428, 980])/AU # Earth's position\n",
    "v_0 = np.array([9.774596, -28.07828 , 4.337725e-4]) /AU * TU # Earth's velocity\n",
    "\n",
    "r_f = np.array([-172682023, 176959469, 7948912])/AU # Mars' position\n",
    "v_f = np.array([-16.427384, -14.860506, 9.21486e-2])/AU*TU # Mars' velocity\n",
    "\n",
    "t_f = 348.795  * 24 * 3600 / TU # time of flight"
   ]
  },
  {
   "cell_type": "markdown",
   "metadata": {},
   "source": [
    "# Objective\n",
    "\n",
    "For efficiency, we need to design trajectories that consume as little fuel as possible, so we introduce this objective:\n",
    "\n",
    "$$J =  \\int_{t_0}^{t_f} \\dfrac{T_{\\max}}{c}\\delta(t) \\, dt$$\n",
    "\n",
    "which basically adds up all the fuel we use throughout the trajectory. Now using what's called **Indirect Method**, we can find a **continious expression** for the optimal control we are after. Although, it's beyond the scope of this tutorial to go through the detailed derivation, I will try to provide explanations that you have to take with a grain of salt.\n",
    "\n",
    "To optimize for the objective, we take a very similar approach as lagrange multipliers (in multivariates calculus). You may ask, but the objective is not constrained, but it is. It is constrained to the dynamics previously introduced. Similar, "
   ]
  }
 ],
 "metadata": {
  "kernelspec": {
   "display_name": "aero",
   "language": "python",
   "name": "python3"
  },
  "language_info": {
   "codemirror_mode": {
    "name": "ipython",
    "version": 3
   },
   "file_extension": ".py",
   "mimetype": "text/x-python",
   "name": "python",
   "nbconvert_exporter": "python",
   "pygments_lexer": "ipython3",
   "version": "3.6.13"
  }
 },
 "nbformat": 4,
 "nbformat_minor": 2
}
