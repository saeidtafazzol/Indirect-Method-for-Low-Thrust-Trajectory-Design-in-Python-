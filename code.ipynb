{
 "cells": [
  {
   "cell_type": "markdown",
   "metadata": {},
   "source": [
    "# Space Craft Dynamics\n",
    "\n",
    "In this section, we will talk about the dynamics of the spacecraft assuming that it is only affected by the gravity field of **one** central body.\n",
    "\n",
    "Let $\\boldsymbol{r} = [x,y,z]^\\top$ and $\\boldsymbol{v} = [v_x,v_y,v_z]^\\top$ denote the position and velocity vectors of the center of mass of the spacecraft relative to the origin of the heliocentric frame of reference. The dynamics can be written as:\n",
    "\n",
    "$$\n",
    "\\begin{align}\n",
    "\\dot{\\boldsymbol{r}} &= \\boldsymbol{v}, \\nonumber \\\\\n",
    "\\dot{\\boldsymbol{v}} &= -\\dfrac{\\mu}{r^3} \\boldsymbol{r} + \\dfrac{T_{\\max}}{m} \\hat{\\boldsymbol{\\alpha}}  \\delta, \\\\\n",
    "\\dot{m} &= - \\dfrac{T_{\\max}}{c} \\delta\n",
    "\\end{align}\n",
    "$$\n",
    "\n",
    "### Explanation of the Dynamics:\n",
    "\n",
    "1. **Position Update:**\n",
    "\n",
    "   $$\n",
    "   \\dot{\\boldsymbol{r}} = \\boldsymbol{v}\n",
    "   $$\n",
    "\n",
    "   The velocity vector $\\boldsymbol{v}$ represents the rate of change of position $\\boldsymbol{r}$.\n",
    "\n",
    "2. **Velocity Update (Equation of Motion):**\n",
    "\n",
    "   $$\n",
    "   \\dot{\\boldsymbol{v}} = -\\dfrac{\\mu}{r^3} \\boldsymbol{r} + \\dfrac{T_{\\max}}{m} \\hat{\\boldsymbol{\\alpha}}  \\delta\n",
    "   $$\n",
    "\n",
    "   - The term $-\\dfrac{\\mu}{r^3} \\boldsymbol{r}$ accounts for the gravitational acceleration due to the central body.\n",
    "   - The term $\\dfrac{T_{\\max}}{m} \\hat{\\boldsymbol{\\alpha}}  \\delta$ represents the acceleration from an external thrust force, where $\\boldsymbol{\\alpha}$ is the direction of the thrust and $\\delta$ is the amount of propulsion.\n",
    "\n",
    "3. **Mass Change Due to Propellant Use:**\n",
    "\n",
    "   $$\n",
    "   \\dot{m} = - \\dfrac{T_{\\max}}{c} \\delta\n",
    "   $$\n",
    "\n",
    "   The spacecraft loses mass over time due to fuel consumption, where $c$ is the exhaust velocity of the propellant.\n",
    "\n",
    "These equations describe the motion of a spacecraft under the influence of a single gravitational body and an external thrust force.\n",
    "\n"
   ]
  },
  {
   "cell_type": "code",
   "execution_count": 1,
   "metadata": {},
   "outputs": [],
   "source": [
    "import sympy as sp\n",
    "\n",
    "mu = sp.Symbol('mu')\n",
    "T_max = sp.Symbol('T_{max}')\n",
    "c = sp.Symbol('c')\n",
    "\n",
    "r0,r1,r2 = sp.symbols('r0:3')\n",
    "v0,v1,v2 = sp.symbols('v0:3')\n",
    "m = sp.Symbol('m')\n",
    "\n",
    "r = sp.Matrix(3,1,[r0,r1,r2])\n",
    "v = sp.Matrix(3,1,[v0,v1,v2])\n",
    "\n",
    "states = sp.Matrix([r,v,m] )\n",
    "costates = sp.Matrix(7, 1, sp.symbols('lambda0:7'))\n",
    "\n",
    "len_r = sp.sqrt((r.T@r)[0])\n",
    "\n",
    "alpha = sp.Matrix(3, 1, sp.symbols('alpha0:3'))\n",
    "delta = sp.Symbol('delta')\n",
    "\n",
    "state_dot = sp.Matrix([\n",
    "v,\n",
    "-mu/(len_r**3)*r + delta*T_max/m*alpha,\n",
    "-T_max/c*delta,\n",
    "])"
   ]
  },
  {
   "cell_type": "markdown",
   "metadata": {},
   "source": []
  }
 ],
 "metadata": {
  "kernelspec": {
   "display_name": "aero",
   "language": "python",
   "name": "python3"
  },
  "language_info": {
   "codemirror_mode": {
    "name": "ipython",
    "version": 3
   },
   "file_extension": ".py",
   "mimetype": "text/x-python",
   "name": "python",
   "nbconvert_exporter": "python",
   "pygments_lexer": "ipython3",
   "version": "3.6.13"
  }
 },
 "nbformat": 4,
 "nbformat_minor": 2
}
